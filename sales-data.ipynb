{
 "cells": [
  {
   "cell_type": "code",
   "execution_count": 1,
   "id": "e1d598c0",
   "metadata": {
    "_cell_guid": "32d2ae75-76c8-41dc-b232-815a5d615f70",
    "_uuid": "f52c25e1-41dd-4da3-9b93-8b24bffc2ee0",
    "collapsed": false,
    "execution": {
     "iopub.execute_input": "2023-07-02T16:32:22.687795Z",
     "iopub.status.busy": "2023-07-02T16:32:22.687273Z",
     "iopub.status.idle": "2023-07-02T16:32:22.710903Z",
     "shell.execute_reply": "2023-07-02T16:32:22.709552Z"
    },
    "jupyter": {
     "outputs_hidden": false
    },
    "papermill": {
     "duration": 0.037374,
     "end_time": "2023-07-02T16:32:22.714815",
     "exception": false,
     "start_time": "2023-07-02T16:32:22.677441",
     "status": "completed"
    },
    "tags": []
   },
   "outputs": [
    {
     "name": "stdout",
     "output_type": "stream",
     "text": [
      "/kaggle/input/sales-product-data/Sales_August_2019.csv\n",
      "/kaggle/input/sales-product-data/Sales_May_2019.csv\n",
      "/kaggle/input/sales-product-data/Sales_February_2019.csv\n",
      "/kaggle/input/sales-product-data/Sales_November_2019.csv\n",
      "/kaggle/input/sales-product-data/Sales_January_2019.csv\n",
      "/kaggle/input/sales-product-data/Sales_March_2019.csv\n",
      "/kaggle/input/sales-product-data/Sales_September_2019.csv\n",
      "/kaggle/input/sales-product-data/Sales_April_2019.csv\n",
      "/kaggle/input/sales-product-data/Sales_July_2019.csv\n",
      "/kaggle/input/sales-product-data/Sales_October_2019.csv\n",
      "/kaggle/input/sales-product-data/Sales_June_2019.csv\n",
      "/kaggle/input/sales-product-data/Sales_December_2019.csv\n"
     ]
    }
   ],
   "source": [
    "# This Python 3 environment comes with many helpful analytics libraries installed\n",
    "# It is defined by the kaggle/python Docker image: https://github.com/kaggle/docker-python\n",
    "# For example, here's several helpful packages to load\n",
    "\n",
    "import numpy as np # linear algebra\n",
    "import pandas as pd # data processing, CSV file I/O (e.g. pd.read_csv)\n",
    "\n",
    "# Input data files are available in the read-only \"../input/\" directory\n",
    "# For example, running this (by clicking run or pressing Shift+Enter) will list all files under the input directory\n",
    "\n",
    "import os\n",
    "for dirname, _, filenames in os.walk('/kaggle/input'):\n",
    "    for filename in filenames:\n",
    "        print(os.path.join(dirname, filename))\n",
    "\n",
    "# You can write up to 20GB to the current directory (/kaggle/working/) that gets preserved as output when you create a version using \"Save & Run All\" \n",
    "# You can also write temporary files to /kaggle/temp/, but they won't be saved outside of the current session"
   ]
  },
  {
   "cell_type": "code",
   "execution_count": 2,
   "id": "d76a520b",
   "metadata": {
    "_cell_guid": "e6af25d6-70fa-436a-9131-86d79dad4025",
    "_uuid": "8042fcad-dcee-45fc-a05e-8be381dbb2c7",
    "collapsed": false,
    "execution": {
     "iopub.execute_input": "2023-07-02T16:32:22.732771Z",
     "iopub.status.busy": "2023-07-02T16:32:22.732336Z",
     "iopub.status.idle": "2023-07-02T16:32:23.441582Z",
     "shell.execute_reply": "2023-07-02T16:32:23.439943Z"
    },
    "jupyter": {
     "outputs_hidden": false
    },
    "papermill": {
     "duration": 0.722062,
     "end_time": "2023-07-02T16:32:23.444847",
     "exception": false,
     "start_time": "2023-07-02T16:32:22.722785",
     "status": "completed"
    },
    "tags": []
   },
   "outputs": [],
   "source": [
    "import pandas as pd\n",
    "import glob\n",
    "\n",
    "\n",
    "# Get a list of all .csv files in the directory\n",
    "file_list = glob.glob('/kaggle/input/sales-product-data/Sales_*.csv')\n",
    "\n",
    "# Create an empty list to store the DataFrames\n",
    "dfs = []\n",
    "\n",
    "# Iterate over each .csv file and read it into a DataFrame\n",
    "for file in file_list:\n",
    "    df = pd.read_csv(file)\n",
    "    dfs.append(df)\n",
    "\n",
    "# Concatenate the DataFrames into a single DataFrame\n",
    "combined_df = pd.concat(dfs)"
   ]
  },
  {
   "cell_type": "code",
   "execution_count": 3,
   "id": "4c196460",
   "metadata": {
    "_cell_guid": "ef73b8b0-481d-4140-ad61-ba378a9e3e6d",
    "_uuid": "46ecbe4c-6c36-4d37-941d-85914b692d2d",
    "collapsed": false,
    "execution": {
     "iopub.execute_input": "2023-07-02T16:32:23.463645Z",
     "iopub.status.busy": "2023-07-02T16:32:23.461781Z",
     "iopub.status.idle": "2023-07-02T16:32:23.907426Z",
     "shell.execute_reply": "2023-07-02T16:32:23.906136Z"
    },
    "jupyter": {
     "outputs_hidden": false
    },
    "papermill": {
     "duration": 0.458141,
     "end_time": "2023-07-02T16:32:23.910757",
     "exception": false,
     "start_time": "2023-07-02T16:32:23.452616",
     "status": "completed"
    },
    "tags": []
   },
   "outputs": [],
   "source": [
    "# Sort the combined DataFrame by the date column\n",
    "combined_df.sort_values('Order Date', inplace=True)"
   ]
  },
  {
   "cell_type": "code",
   "execution_count": 4,
   "id": "832cb6f0",
   "metadata": {
    "_cell_guid": "c95abc2a-e4b8-4062-a974-214c4e16fe12",
    "_uuid": "b2e356fc-364c-4a70-9ae0-94f3c7aa807c",
    "collapsed": false,
    "execution": {
     "iopub.execute_input": "2023-07-02T16:32:23.929079Z",
     "iopub.status.busy": "2023-07-02T16:32:23.928300Z",
     "iopub.status.idle": "2023-07-02T16:32:24.162440Z",
     "shell.execute_reply": "2023-07-02T16:32:24.161138Z"
    },
    "jupyter": {
     "outputs_hidden": false
    },
    "papermill": {
     "duration": 0.247338,
     "end_time": "2023-07-02T16:32:24.166218",
     "exception": false,
     "start_time": "2023-07-02T16:32:23.918880",
     "status": "completed"
    },
    "tags": []
   },
   "outputs": [],
   "source": [
    "combined_df = combined_df.drop(combined_df.index[185950:186849])\n",
    "combined_df = combined_df.drop(combined_df.index[177815])"
   ]
  },
  {
   "cell_type": "code",
   "execution_count": 5,
   "id": "d38be44c",
   "metadata": {
    "_cell_guid": "7ff43160-1a12-405a-b62c-7e4da3961bba",
    "_uuid": "94a45127-9ac2-43dd-8763-b51076bdff73",
    "collapsed": false,
    "execution": {
     "iopub.execute_input": "2023-07-02T16:32:24.189525Z",
     "iopub.status.busy": "2023-07-02T16:32:24.188923Z",
     "iopub.status.idle": "2023-07-02T16:32:24.194487Z",
     "shell.execute_reply": "2023-07-02T16:32:24.193342Z"
    },
    "jupyter": {
     "outputs_hidden": false
    },
    "papermill": {
     "duration": 0.019872,
     "end_time": "2023-07-02T16:32:24.196825",
     "exception": false,
     "start_time": "2023-07-02T16:32:24.176953",
     "status": "completed"
    },
    "tags": []
   },
   "outputs": [],
   "source": [
    "# Reset the index of the combined DataFrame\n",
    "combined_df.reset_index(drop=True, inplace=True)"
   ]
  },
  {
   "cell_type": "code",
   "execution_count": 6,
   "id": "e249212a",
   "metadata": {
    "execution": {
     "iopub.execute_input": "2023-07-02T16:32:24.214895Z",
     "iopub.status.busy": "2023-07-02T16:32:24.214243Z",
     "iopub.status.idle": "2023-07-02T16:32:24.690835Z",
     "shell.execute_reply": "2023-07-02T16:32:24.689195Z"
    },
    "papermill": {
     "duration": 0.488571,
     "end_time": "2023-07-02T16:32:24.693544",
     "exception": false,
     "start_time": "2023-07-02T16:32:24.204973",
     "status": "completed"
    },
    "tags": []
   },
   "outputs": [],
   "source": [
    "combined_df['Month'] = combined_df['Order Date'].str[:2]\n",
    "combined_df['Day'] = combined_df['Order Date'].str[3:5]\n",
    "combined_df['Year'] = combined_df['Order Date'].str[6:8]\n",
    "combined_df['Time'] = combined_df['Order Date'].str[9:14]\n"
   ]
  },
  {
   "cell_type": "code",
   "execution_count": 7,
   "id": "52a7e1c8",
   "metadata": {
    "execution": {
     "iopub.execute_input": "2023-07-02T16:32:24.711561Z",
     "iopub.status.busy": "2023-07-02T16:32:24.711161Z",
     "iopub.status.idle": "2023-07-02T16:32:24.754201Z",
     "shell.execute_reply": "2023-07-02T16:32:24.752481Z"
    },
    "papermill": {
     "duration": 0.055665,
     "end_time": "2023-07-02T16:32:24.757417",
     "exception": false,
     "start_time": "2023-07-02T16:32:24.701752",
     "status": "completed"
    },
    "tags": []
   },
   "outputs": [],
   "source": [
    "combined_df = combined_df.drop('Order Date', axis=1)"
   ]
  },
  {
   "cell_type": "code",
   "execution_count": 8,
   "id": "abc1dba1",
   "metadata": {
    "execution": {
     "iopub.execute_input": "2023-07-02T16:32:24.775189Z",
     "iopub.status.busy": "2023-07-02T16:32:24.774741Z",
     "iopub.status.idle": "2023-07-02T16:32:26.383528Z",
     "shell.execute_reply": "2023-07-02T16:32:26.382311Z"
    },
    "papermill": {
     "duration": 1.621247,
     "end_time": "2023-07-02T16:32:26.386323",
     "exception": false,
     "start_time": "2023-07-02T16:32:24.765076",
     "status": "completed"
    },
    "tags": []
   },
   "outputs": [],
   "source": [
    "combined_df.to_csv('/kaggle/working/combined_df.csv', index=False)"
   ]
  },
  {
   "cell_type": "code",
   "execution_count": 9,
   "id": "3c3ee779",
   "metadata": {
    "_cell_guid": "a9819f96-3c46-4924-95b3-21e1db5bccbd",
    "_uuid": "f4534c90-438e-4e7a-b200-baea352c48fc",
    "collapsed": false,
    "execution": {
     "iopub.execute_input": "2023-07-02T16:32:26.403861Z",
     "iopub.status.busy": "2023-07-02T16:32:26.403478Z",
     "iopub.status.idle": "2023-07-02T16:32:26.440977Z",
     "shell.execute_reply": "2023-07-02T16:32:26.440072Z"
    },
    "jupyter": {
     "outputs_hidden": false
    },
    "papermill": {
     "duration": 0.049237,
     "end_time": "2023-07-02T16:32:26.443574",
     "exception": false,
     "start_time": "2023-07-02T16:32:26.394337",
     "status": "completed"
    },
    "tags": []
   },
   "outputs": [
    {
     "data": {
      "text/html": [
       "<div>\n",
       "<style scoped>\n",
       "    .dataframe tbody tr th:only-of-type {\n",
       "        vertical-align: middle;\n",
       "    }\n",
       "\n",
       "    .dataframe tbody tr th {\n",
       "        vertical-align: top;\n",
       "    }\n",
       "\n",
       "    .dataframe thead th {\n",
       "        text-align: right;\n",
       "    }\n",
       "</style>\n",
       "<table border=\"1\" class=\"dataframe\">\n",
       "  <thead>\n",
       "    <tr style=\"text-align: right;\">\n",
       "      <th></th>\n",
       "      <th>Order ID</th>\n",
       "      <th>Product</th>\n",
       "      <th>Quantity Ordered</th>\n",
       "      <th>Price Each</th>\n",
       "      <th>Purchase Address</th>\n",
       "      <th>Month</th>\n",
       "      <th>Day</th>\n",
       "      <th>Year</th>\n",
       "      <th>Time</th>\n",
       "    </tr>\n",
       "  </thead>\n",
       "  <tbody>\n",
       "    <tr>\n",
       "      <th>0</th>\n",
       "      <td>147268</td>\n",
       "      <td>Wired Headphones</td>\n",
       "      <td>1</td>\n",
       "      <td>11.99</td>\n",
       "      <td>9 Lake St, New York City, NY 10001</td>\n",
       "      <td>01</td>\n",
       "      <td>01</td>\n",
       "      <td>19</td>\n",
       "      <td>03:07</td>\n",
       "    </tr>\n",
       "    <tr>\n",
       "      <th>1</th>\n",
       "      <td>148041</td>\n",
       "      <td>USB-C Charging Cable</td>\n",
       "      <td>1</td>\n",
       "      <td>11.95</td>\n",
       "      <td>760 Church St, San Francisco, CA 94016</td>\n",
       "      <td>01</td>\n",
       "      <td>01</td>\n",
       "      <td>19</td>\n",
       "      <td>03:40</td>\n",
       "    </tr>\n",
       "    <tr>\n",
       "      <th>2</th>\n",
       "      <td>149343</td>\n",
       "      <td>Apple Airpods Headphones</td>\n",
       "      <td>1</td>\n",
       "      <td>150</td>\n",
       "      <td>735 5th St, New York City, NY 10001</td>\n",
       "      <td>01</td>\n",
       "      <td>01</td>\n",
       "      <td>19</td>\n",
       "      <td>04:56</td>\n",
       "    </tr>\n",
       "    <tr>\n",
       "      <th>3</th>\n",
       "      <td>149964</td>\n",
       "      <td>AAA Batteries (4-pack)</td>\n",
       "      <td>1</td>\n",
       "      <td>2.99</td>\n",
       "      <td>75 Jackson St, Dallas, TX 75001</td>\n",
       "      <td>01</td>\n",
       "      <td>01</td>\n",
       "      <td>19</td>\n",
       "      <td>05:53</td>\n",
       "    </tr>\n",
       "    <tr>\n",
       "      <th>4</th>\n",
       "      <td>149350</td>\n",
       "      <td>USB-C Charging Cable</td>\n",
       "      <td>2</td>\n",
       "      <td>11.95</td>\n",
       "      <td>943 2nd St, Atlanta, GA 30301</td>\n",
       "      <td>01</td>\n",
       "      <td>01</td>\n",
       "      <td>19</td>\n",
       "      <td>06:03</td>\n",
       "    </tr>\n",
       "  </tbody>\n",
       "</table>\n",
       "</div>"
      ],
      "text/plain": [
       "  Order ID                   Product Quantity Ordered Price Each  \\\n",
       "0   147268          Wired Headphones                1      11.99   \n",
       "1   148041      USB-C Charging Cable                1      11.95   \n",
       "2   149343  Apple Airpods Headphones                1        150   \n",
       "3   149964    AAA Batteries (4-pack)                1       2.99   \n",
       "4   149350      USB-C Charging Cable                2      11.95   \n",
       "\n",
       "                         Purchase Address Month Day Year   Time  \n",
       "0      9 Lake St, New York City, NY 10001    01  01   19  03:07  \n",
       "1  760 Church St, San Francisco, CA 94016    01  01   19  03:40  \n",
       "2     735 5th St, New York City, NY 10001    01  01   19  04:56  \n",
       "3         75 Jackson St, Dallas, TX 75001    01  01   19  05:53  \n",
       "4           943 2nd St, Atlanta, GA 30301    01  01   19  06:03  "
      ]
     },
     "execution_count": 9,
     "metadata": {},
     "output_type": "execute_result"
    }
   ],
   "source": [
    "combined_df.head()"
   ]
  },
  {
   "cell_type": "code",
   "execution_count": 10,
   "id": "8c8c9b81",
   "metadata": {
    "execution": {
     "iopub.execute_input": "2023-07-02T16:32:26.464164Z",
     "iopub.status.busy": "2023-07-02T16:32:26.463444Z",
     "iopub.status.idle": "2023-07-02T16:32:26.677873Z",
     "shell.execute_reply": "2023-07-02T16:32:26.676160Z"
    },
    "papermill": {
     "duration": 0.228555,
     "end_time": "2023-07-02T16:32:26.680697",
     "exception": false,
     "start_time": "2023-07-02T16:32:26.452142",
     "status": "completed"
    },
    "tags": []
   },
   "outputs": [
    {
     "name": "stdout",
     "output_type": "stream",
     "text": [
      "Best Year for Sales: 19\n",
      "Total Earnings: 32744601.87999999\n"
     ]
    }
   ],
   "source": [
    "import pandas as pd\n",
    "\n",
    "# Convert 'Price Each' column to numeric data type\n",
    "combined_df['Price Each'] = pd.to_numeric(combined_df['Price Each'])\n",
    "\n",
    "# Group by 'Year' and calculate the sum of price for each year\n",
    "yearly_sales = combined_df.groupby('Year')['Price Each'].sum()\n",
    "\n",
    "# Find the year with the highest sales\n",
    "best_year = yearly_sales.idxmax()\n",
    "\n",
    "# Calculate the total earnings for the best year\n",
    "earnings = combined_df.loc[combined_df['Year'] == best_year, 'Price Each'].sum()\n",
    "\n",
    "print(\"Best Year for Sales:\", best_year)\n",
    "print(\"Total Earnings:\", earnings)\n"
   ]
  },
  {
   "cell_type": "code",
   "execution_count": 11,
   "id": "e889b1b7",
   "metadata": {
    "execution": {
     "iopub.execute_input": "2023-07-02T16:32:26.699547Z",
     "iopub.status.busy": "2023-07-02T16:32:26.698217Z",
     "iopub.status.idle": "2023-07-02T16:32:26.730433Z",
     "shell.execute_reply": "2023-07-02T16:32:26.728992Z"
    },
    "papermill": {
     "duration": 0.044263,
     "end_time": "2023-07-02T16:32:26.733039",
     "exception": false,
     "start_time": "2023-07-02T16:32:26.688776",
     "status": "completed"
    },
    "tags": []
   },
   "outputs": [
    {
     "name": "stdout",
     "output_type": "stream",
     "text": [
      "Best Month for Sales: 12\n",
      "Total Earnings: 4458954.99\n"
     ]
    }
   ],
   "source": [
    "# Convert 'Price Each' column to numeric data type (if not already done)\n",
    "combined_df['Price Each'] = pd.to_numeric(combined_df['Price Each'])\n",
    "\n",
    "# Group by 'Month' and calculate the sum of sales\n",
    "monthly_sales = combined_df.groupby('Month')['Price Each'].sum()\n",
    "\n",
    "# Find the month with the highest sales\n",
    "best_month = monthly_sales.idxmax()\n",
    "\n",
    "# Calculate the total earnings for the best month\n",
    "earnings = monthly_sales.loc[best_month]\n",
    "\n",
    "print(\"Best Month for Sales:\", best_month)\n",
    "print(\"Total Earnings:\", earnings)\n"
   ]
  },
  {
   "cell_type": "code",
   "execution_count": 12,
   "id": "4eac0993",
   "metadata": {
    "execution": {
     "iopub.execute_input": "2023-07-02T16:32:26.751029Z",
     "iopub.status.busy": "2023-07-02T16:32:26.750626Z",
     "iopub.status.idle": "2023-07-02T16:32:27.442352Z",
     "shell.execute_reply": "2023-07-02T16:32:27.440154Z"
    },
    "papermill": {
     "duration": 0.704218,
     "end_time": "2023-07-02T16:32:27.445400",
     "exception": false,
     "start_time": "2023-07-02T16:32:26.741182",
     "status": "completed"
    },
    "tags": []
   },
   "outputs": [
    {
     "name": "stdout",
     "output_type": "stream",
     "text": [
      "City with the Highest Sales: 338 Hickory St, Los Angeles, CA 90001\n",
      "Total Sales in that City: 12\n"
     ]
    }
   ],
   "source": [
    "import pandas as pd\n",
    "\n",
    "# Convert 'Quantity Ordered' column to numeric data type\n",
    "combined_df['Quantity Ordered'] = pd.to_numeric(combined_df['Quantity Ordered'])\n",
    "\n",
    "# Group by 'City' and calculate the sum of sales\n",
    "city_sales = combined_df.groupby('Purchase Address')['Quantity Ordered'].sum()\n",
    "\n",
    "# Find the city with the highest sales\n",
    "best_city = city_sales.idxmax()\n",
    "\n",
    "# Calculate the total sales for the best city\n",
    "total_sales = city_sales.loc[best_city]\n",
    "\n",
    "print(\"City with the Highest Sales:\", best_city)\n",
    "print(\"Total Sales in that City:\", total_sales)\n",
    "\n"
   ]
  },
  {
   "cell_type": "code",
   "execution_count": 13,
   "id": "7566fbff",
   "metadata": {
    "execution": {
     "iopub.execute_input": "2023-07-02T16:32:27.463938Z",
     "iopub.status.busy": "2023-07-02T16:32:27.463573Z",
     "iopub.status.idle": "2023-07-02T16:32:27.916814Z",
     "shell.execute_reply": "2023-07-02T16:32:27.915358Z"
    },
    "papermill": {
     "duration": 0.468006,
     "end_time": "2023-07-02T16:32:27.921760",
     "exception": false,
     "start_time": "2023-07-02T16:32:27.453754",
     "status": "completed"
    },
    "tags": []
   },
   "outputs": [
    {
     "data": {
      "image/png": "[encoded data removed]",
      "text/plain": [
       "<Figure size 640x480 with 1 Axes>"
      ]
     },
     "metadata": {},
     "output_type": "display_data"
    },
    {
     "name": "stdout",
     "output_type": "stream",
     "text": [
      "Best Hour for Advertising: 11:58\n"
     ]
    }
   ],
   "source": [
    "import matplotlib.pyplot as plt\n",
    "\n",
    "# Group by hour and calculate the count of orders\n",
    "order_counts = combined_df.groupby('Time').size()\n",
    "\n",
    "# Plot the distribution of orders over different hours\n",
    "order_counts.plot(kind='line', marker='o')\n",
    "plt.xlabel('Order Hour')\n",
    "plt.ylabel('Order Count')\n",
    "plt.title('Order Distribution by Hour')\n",
    "plt.grid(True)\n",
    "plt.show()\n",
    "\n",
    "# Find the hour with the highest order count\n",
    "best_hour = order_counts.idxmax()\n",
    "\n",
    "print(\"Best Hour for Advertising:\", best_hour)\n"
   ]
  },
  {
   "cell_type": "code",
   "execution_count": 14,
   "id": "a1297167",
   "metadata": {
    "execution": {
     "iopub.execute_input": "2023-07-02T16:32:27.948877Z",
     "iopub.status.busy": "2023-07-02T16:32:27.947672Z",
     "iopub.status.idle": "2023-07-02T16:32:34.758886Z",
     "shell.execute_reply": "2023-07-02T16:32:34.757691Z"
    },
    "papermill": {
     "duration": 6.827036,
     "end_time": "2023-07-02T16:32:34.761585",
     "exception": false,
     "start_time": "2023-07-02T16:32:27.934549",
     "status": "completed"
    },
    "tags": []
   },
   "outputs": [
    {
     "name": "stdout",
     "output_type": "stream",
     "text": [
      "('iPhone', 'Lightning Charging Cable') 485\n",
      "('Google Phone', 'USB-C Charging Cable') 476\n",
      "('USB-C Charging Cable', 'Google Phone') 450\n",
      "('Lightning Charging Cable', 'iPhone') 438\n",
      "('Wired Headphones', 'iPhone') 233\n"
     ]
    },
    {
     "data": {
      "image/png": "[encoded data removed]",
      "text/plain": [
       "<Figure size 640x480 with 1 Axes>"
      ]
     },
     "metadata": {},
     "output_type": "display_data"
    }
   ],
   "source": [
    "import matplotlib.pyplot as plt\n",
    "from itertools import combinations\n",
    "from collections import Counter\n",
    "\n",
    "# Group the data by order ID and create a list of products in each order\n",
    "order_products = combined_df.groupby('Order ID')['Product'].apply(list)\n",
    "\n",
    "# Count the occurrences of product combinations\n",
    "product_combinations = []\n",
    "for products in order_products:\n",
    "    product_combinations.extend(list(combinations(products, 2)))  # Change '2' to the desired combination size\n",
    "\n",
    "# Calculate the frequency of product combinations\n",
    "combination_counts = Counter(product_combinations)\n",
    "\n",
    "# Get the most frequently occurring combinations\n",
    "top_combinations = combination_counts.most_common(5)  # Change '5' to the desired number of top combinations\n",
    "\n",
    "for combination, count in top_combinations:\n",
    "    print(combination, count)\n",
    "    \n",
    "# Extract combination and count data for plotting\n",
    "combinations, counts = zip(*top_combinations)\n",
    "\n",
    "# Convert combinations to strings\n",
    "combinations = [str(combination) for combination in combinations]\n",
    "\n",
    "# Plot the data\n",
    "plt.bar(combinations, counts)\n",
    "plt.xlabel('Product Combinations')\n",
    "plt.ylabel('Frequency')\n",
    "plt.title('Top Product Combinations')\n",
    "plt.xticks(rotation=90)\n",
    "\n",
    "# Display the plot\n",
    "plt.show()\n"
   ]
  },
  {
   "cell_type": "code",
   "execution_count": 15,
   "id": "e0996122",
   "metadata": {
    "execution": {
     "iopub.execute_input": "2023-07-02T16:32:34.783378Z",
     "iopub.status.busy": "2023-07-02T16:32:34.782920Z",
     "iopub.status.idle": "2023-07-02T16:32:34.814300Z",
     "shell.execute_reply": "2023-07-02T16:32:34.812835Z"
    },
    "papermill": {
     "duration": 0.04558,
     "end_time": "2023-07-02T16:32:34.816935",
     "exception": false,
     "start_time": "2023-07-02T16:32:34.771355",
     "status": "completed"
    },
    "tags": []
   },
   "outputs": [
    {
     "name": "stdout",
     "output_type": "stream",
     "text": [
      "Best-selling Product: AAA Batteries (4-pack)\n",
      "Sales Volume: 29711\n",
      "\n",
      "Possible Reasons for High Sales:\n",
      "Product popularity, brand recognition,\n",
      "High-quality product or positive customer reviews,\n",
      "Strong customer demand or trendiness of the product\n"
     ]
    }
   ],
   "source": [
    "import pandas as pd\n",
    "\n",
    "# Group the data by product name and calculate the sum of quantity ordered\n",
    "product_sales = combined_df.groupby('Product')['Quantity Ordered'].sum()\n",
    "\n",
    "# Find the product with the highest sales\n",
    "best_selling_product = product_sales.idxmax()\n",
    "\n",
    "# Get the sales volume of the best-selling product\n",
    "sales_volume = product_sales.loc[best_selling_product]\n",
    "\n",
    "print(\"Best-selling Product:\", best_selling_product)\n",
    "print(\"Sales Volume:\", sales_volume)\n",
    "\n",
    "# Analyze possible reasons for its high sales\n",
    "# You can add your own analysis here based on the context of your data and business\n",
    "print(\"\\nPossible Reasons for High Sales:\")\n",
    "print(\"Product popularity, brand recognition,\")\n",
    "print(\"High-quality product or positive customer reviews,\")\n",
    "print(\"Strong customer demand or trendiness of the product\")\n",
    "# Some possible factors to consider:\n",
    "# - Effective marketing and advertising campaigns\n",
    "# - Competitive pricing or discounts\n",
    "\n"
   ]
  },
  {
   "cell_type": "code",
   "execution_count": 16,
   "id": "89fdf72f",
   "metadata": {
    "execution": {
     "iopub.execute_input": "2023-07-02T16:32:34.838696Z",
     "iopub.status.busy": "2023-07-02T16:32:34.838281Z",
     "iopub.status.idle": "2023-07-02T16:32:34.957741Z",
     "shell.execute_reply": "2023-07-02T16:32:34.956174Z"
    },
    "papermill": {
     "duration": 0.133676,
     "end_time": "2023-07-02T16:32:34.960512",
     "exception": false,
     "start_time": "2023-07-02T16:32:34.826836",
     "status": "completed"
    },
    "tags": []
   },
   "outputs": [
    {
     "name": "stdout",
     "output_type": "stream",
     "text": [
      "Probability of Ordering USB-C Charging Cable: 11.80609059978067 %\n"
     ]
    }
   ],
   "source": [
    "# Count the occurrences of USB-C Charging Cable\n",
    "usb_c_orders = combined_df[combined_df['Product'] == 'USB-C Charging Cable'].shape[0]\n",
    "\n",
    "# Calculate the total number of orders\n",
    "total_orders = combined_df.shape[0]\n",
    "\n",
    "# Calculate the probability of ordering USB-C Charging Cable\n",
    "usb_c_probability = ((usb_c_orders / total_orders)*100)\n",
    "\n",
    "print(\"Probability of Ordering USB-C Charging Cable:\", usb_c_probability,\"%\")\n"
   ]
  },
  {
   "cell_type": "code",
   "execution_count": 17,
   "id": "614fbe7f",
   "metadata": {
    "execution": {
     "iopub.execute_input": "2023-07-02T16:32:34.982890Z",
     "iopub.status.busy": "2023-07-02T16:32:34.981985Z",
     "iopub.status.idle": "2023-07-02T16:32:35.025679Z",
     "shell.execute_reply": "2023-07-02T16:32:35.024388Z"
    },
    "papermill": {
     "duration": 0.057634,
     "end_time": "2023-07-02T16:32:35.028214",
     "exception": false,
     "start_time": "2023-07-02T16:32:34.970580",
     "status": "completed"
    },
    "tags": []
   },
   "outputs": [
    {
     "name": "stdout",
     "output_type": "stream",
     "text": [
      "Probability of Ordering iPhone: 11.80609059978067 %\n"
     ]
    }
   ],
   "source": [
    "#How much probability for next people will ordered iPhone?\n",
    "\n",
    "# Count the occurrences of iPhone\n",
    "iPhone_orders = combined_df[combined_df['Product'] == 'iPhone'].shape[0]\n",
    "\n",
    "# Calculate the total number of orders\n",
    "total_orders = combined_df.shape[0]\n",
    "\n",
    "# Calculate the probability of ordering iPhone\n",
    "iPhone_probability = ((usb_c_orders / total_orders)*100)\n",
    "\n",
    "print(\"Probability of Ordering iPhone:\", iPhone_probability,\"%\")"
   ]
  },
  {
   "cell_type": "code",
   "execution_count": 18,
   "id": "26c3bcc7",
   "metadata": {
    "execution": {
     "iopub.execute_input": "2023-07-02T16:32:35.050854Z",
     "iopub.status.busy": "2023-07-02T16:32:35.050422Z",
     "iopub.status.idle": "2023-07-02T16:32:35.092225Z",
     "shell.execute_reply": "2023-07-02T16:32:35.090913Z"
    },
    "papermill": {
     "duration": 0.056508,
     "end_time": "2023-07-02T16:32:35.094792",
     "exception": false,
     "start_time": "2023-07-02T16:32:35.038284",
     "status": "completed"
    },
    "tags": []
   },
   "outputs": [
    {
     "name": "stdout",
     "output_type": "stream",
     "text": [
      "Probability of Ordering iPhone: 2.9789387846919553 %\n"
     ]
    }
   ],
   "source": [
    "#How much probability for next people will ordered Google Phone?\n",
    "\n",
    "# Count the occurrences of Gopogle Phone\n",
    "google_Phone_orders = combined_df[combined_df['Product'] == 'Google Phone'].shape[0]\n",
    "\n",
    "# Calculate the total number of orders\n",
    "total_orders = combined_df.shape[0]\n",
    "\n",
    "# Calculate the probability of ordering iPhone\n",
    "google_Phone_probability = ((google_Phone_orders / total_orders)*100)\n",
    "\n",
    "print(\"Probability of Ordering iPhone:\", google_Phone_probability,\"%\")\n"
   ]
  },
  {
   "cell_type": "code",
   "execution_count": 19,
   "id": "940c0ddc",
   "metadata": {
    "execution": {
     "iopub.execute_input": "2023-07-02T16:32:35.117149Z",
     "iopub.status.busy": "2023-07-02T16:32:35.116658Z",
     "iopub.status.idle": "2023-07-02T16:32:35.164130Z",
     "shell.execute_reply": "2023-07-02T16:32:35.162816Z"
    },
    "papermill": {
     "duration": 0.061455,
     "end_time": "2023-07-02T16:32:35.166624",
     "exception": false,
     "start_time": "2023-07-02T16:32:35.105169",
     "status": "completed"
    },
    "tags": []
   },
   "outputs": [
    {
     "name": "stdout",
     "output_type": "stream",
     "text": [
      "Probability of Wired_Headphones_orders: 10.148187723195456 %\n"
     ]
    }
   ],
   "source": [
    "#How much probability for next people will ordered Wired Headphones?\n",
    "\n",
    "# Count the occurrences of Wired Headphones\n",
    "Wired_Headphones_orders = combined_df[combined_df['Product'] == 'Wired Headphones'].shape[0]\n",
    "\n",
    "# Calculate the total number of orders\n",
    "total_orders = combined_df.shape[0]\n",
    "\n",
    "# Calculate the probability of ordering iPhone\n",
    "Wired_Headphones_probability = ((Wired_Headphones_orders / total_orders)*100)\n",
    "\n",
    "print(\"Probability of Wired_Headphones_orders:\",Wired_Headphones_probability,\"%\")"
   ]
  },
  {
   "cell_type": "code",
   "execution_count": 20,
   "id": "d450e666",
   "metadata": {
    "execution": {
     "iopub.execute_input": "2023-07-02T16:32:35.189577Z",
     "iopub.status.busy": "2023-07-02T16:32:35.188447Z",
     "iopub.status.idle": "2023-07-02T16:32:35.592445Z",
     "shell.execute_reply": "2023-07-02T16:32:35.591096Z"
    },
    "papermill": {
     "duration": 0.418348,
     "end_time": "2023-07-02T16:32:35.595144",
     "exception": false,
     "start_time": "2023-07-02T16:32:35.176796",
     "status": "completed"
    },
    "tags": []
   },
   "outputs": [
    {
     "data": {
      "image/png": "[encoded data removed]",
      "text/plain": [
       "<Figure size 1600x600 with 1 Axes>"
      ]
     },
     "metadata": {},
     "output_type": "display_data"
    }
   ],
   "source": [
    "import matplotlib.pyplot as plt\n",
    "\n",
    "# Data for the four units\n",
    "units = ['usb_c_probability', 'iPhone_probability', 'google_Phone_probability', 'Wired_Headphones_probability']\n",
    "values = [11.80, 11.80, 2.97, 10.14]\n",
    "\n",
    "fig, ax = plt.subplots(figsize=(16, 6))\n",
    "ax.bar(units, values)\n",
    "\n",
    "# Add labels and title\n",
    "ax.set_xlabel('Units')\n",
    "ax.set_ylabel('Values')\n",
    "ax.set_title('Probability for Four Units')\n",
    "\n",
    "# Adjust spacing to prevent overlap\n",
    "plt.tight_layout()\n",
    "\n",
    "# Show the plot\n",
    "plt.show()\n"
   ]
  }
 ],
 "metadata": {
  "kernelspec": {
   "display_name": "Python 3",
   "language": "python",
   "name": "python3"
  },
  "language_info": {
   "codemirror_mode": {
    "name": "ipython",
    "version": 3
   },
   "file_extension": ".py",
   "mimetype": "text/x-python",
   "name": "python",
   "nbconvert_exporter": "python",
   "pygments_lexer": "ipython3",
   "version": "3.10.10"
  },
  "papermill": {
   "default_parameters": {},
   "duration": 28.273341,
   "end_time": "2023-07-02T16:32:36.631436",
   "environment_variables": {},
   "exception": null,
   "input_path": "__notebook__.ipynb",
   "output_path": "__notebook__.ipynb",
   "parameters": {},
   "start_time": "2023-07-02T16:32:08.358095",
   "version": "2.4.0"
  }
 },
 "nbformat": 4,
 "nbformat_minor": 5
}
